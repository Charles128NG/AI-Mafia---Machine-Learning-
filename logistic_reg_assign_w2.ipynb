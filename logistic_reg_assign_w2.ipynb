{
 "cells": [
  {
   "cell_type": "code",
   "execution_count": 1,
   "metadata": {},
   "outputs": [],
   "source": [
    "import numpy as np\n",
    "import pandas as pd\n",
    "import matplotlib.pyplot as plt\n",
    "import sys"
   ]
  },
  {
   "cell_type": "code",
   "execution_count": 8,
   "metadata": {},
   "outputs": [
    {
     "data": {
      "text/html": [
       "<div>\n",
       "<style scoped>\n",
       "    .dataframe tbody tr th:only-of-type {\n",
       "        vertical-align: middle;\n",
       "    }\n",
       "\n",
       "    .dataframe tbody tr th {\n",
       "        vertical-align: top;\n",
       "    }\n",
       "\n",
       "    .dataframe thead th {\n",
       "        text-align: right;\n",
       "    }\n",
       "</style>\n",
       "<table border=\"1\" class=\"dataframe\">\n",
       "  <thead>\n",
       "    <tr style=\"text-align: right;\">\n",
       "      <th></th>\n",
       "      <th>f1</th>\n",
       "      <th>f2</th>\n",
       "      <th>f3</th>\n",
       "      <th>label</th>\n",
       "    </tr>\n",
       "  </thead>\n",
       "  <tbody>\n",
       "    <tr>\n",
       "      <th>0</th>\n",
       "      <td>-1.239375</td>\n",
       "      <td>0.749101</td>\n",
       "      <td>-0.528515</td>\n",
       "      <td>1</td>\n",
       "    </tr>\n",
       "    <tr>\n",
       "      <th>1</th>\n",
       "      <td>-1.036070</td>\n",
       "      <td>0.801436</td>\n",
       "      <td>-1.283712</td>\n",
       "      <td>1</td>\n",
       "    </tr>\n",
       "    <tr>\n",
       "      <th>2</th>\n",
       "      <td>-0.615579</td>\n",
       "      <td>1.579521</td>\n",
       "      <td>-1.391927</td>\n",
       "      <td>1</td>\n",
       "    </tr>\n",
       "    <tr>\n",
       "      <th>3</th>\n",
       "      <td>1.335978</td>\n",
       "      <td>1.348651</td>\n",
       "      <td>1.433564</td>\n",
       "      <td>0</td>\n",
       "    </tr>\n",
       "    <tr>\n",
       "      <th>4</th>\n",
       "      <td>0.658925</td>\n",
       "      <td>1.300019</td>\n",
       "      <td>0.571603</td>\n",
       "      <td>0</td>\n",
       "    </tr>\n",
       "    <tr>\n",
       "      <th>...</th>\n",
       "      <td>...</td>\n",
       "      <td>...</td>\n",
       "      <td>...</td>\n",
       "      <td>...</td>\n",
       "    </tr>\n",
       "    <tr>\n",
       "      <th>2995</th>\n",
       "      <td>-0.455628</td>\n",
       "      <td>1.302303</td>\n",
       "      <td>-1.338027</td>\n",
       "      <td>1</td>\n",
       "    </tr>\n",
       "    <tr>\n",
       "      <th>2996</th>\n",
       "      <td>-0.434551</td>\n",
       "      <td>1.597813</td>\n",
       "      <td>-1.748643</td>\n",
       "      <td>1</td>\n",
       "    </tr>\n",
       "    <tr>\n",
       "      <th>2997</th>\n",
       "      <td>0.088277</td>\n",
       "      <td>1.638789</td>\n",
       "      <td>-2.193641</td>\n",
       "      <td>1</td>\n",
       "    </tr>\n",
       "    <tr>\n",
       "      <th>2998</th>\n",
       "      <td>1.525155</td>\n",
       "      <td>0.859234</td>\n",
       "      <td>1.505308</td>\n",
       "      <td>0</td>\n",
       "    </tr>\n",
       "    <tr>\n",
       "      <th>2999</th>\n",
       "      <td>-0.979817</td>\n",
       "      <td>0.563954</td>\n",
       "      <td>-1.539394</td>\n",
       "      <td>1</td>\n",
       "    </tr>\n",
       "  </tbody>\n",
       "</table>\n",
       "<p>3000 rows × 4 columns</p>\n",
       "</div>"
      ],
      "text/plain": [
       "            f1        f2        f3  label\n",
       "0    -1.239375  0.749101 -0.528515      1\n",
       "1    -1.036070  0.801436 -1.283712      1\n",
       "2    -0.615579  1.579521 -1.391927      1\n",
       "3     1.335978  1.348651  1.433564      0\n",
       "4     0.658925  1.300019  0.571603      0\n",
       "...        ...       ...       ...    ...\n",
       "2995 -0.455628  1.302303 -1.338027      1\n",
       "2996 -0.434551  1.597813 -1.748643      1\n",
       "2997  0.088277  1.638789 -2.193641      1\n",
       "2998  1.525155  0.859234  1.505308      0\n",
       "2999 -0.979817  0.563954 -1.539394      1\n",
       "\n",
       "[3000 rows x 4 columns]"
      ]
     },
     "execution_count": 8,
     "metadata": {},
     "output_type": "execute_result"
    }
   ],
   "source": [
    "dfx = pd.read_csv(\"./Downloads/Logistic_X_Train.csv\")\n",
    "dfy = pd.read_csv(\"./Downloads/Logistic_Y_Train.csv\")\n",
    "d = dfx.join(dfy)\n",
    "d"
   ]
  },
  {
   "cell_type": "code",
   "execution_count": 18,
   "metadata": {},
   "outputs": [
    {
     "name": "stdout",
     "output_type": "stream",
     "text": [
      "[[-1.23937466 -1.03607028 -0.61557914 ...  0.08827657  1.52515501\n",
      "  -0.97981744]\n",
      " [ 0.74910149  0.80143631  1.57952053 ...  1.63878904  0.85923429\n",
      "   0.56395376]\n",
      " [-0.52851491 -1.28371152 -1.39192706 ... -2.19364056  1.50530791\n",
      "  -1.53939416]]\n",
      "(3, 3000)\n"
     ]
    }
   ],
   "source": [
    "dfx_val = dfx.values.T\n",
    "print(dfx_val)\n",
    "print(dfx_val.shape)"
   ]
  },
  {
   "cell_type": "code",
   "execution_count": 34,
   "metadata": {},
   "outputs": [
    {
     "data": {
      "text/plain": [
       "(3000, 1)"
      ]
     },
     "execution_count": 34,
     "metadata": {},
     "output_type": "execute_result"
    }
   ],
   "source": [
    "x1 = dfx_val[0]\n",
    "x2 = dfx_val[1]\n",
    "x3 = dfx_val[2]\n",
    "Y = dfy.values\n",
    "Y.shape"
   ]
  },
  {
   "cell_type": "code",
   "execution_count": 35,
   "metadata": {},
   "outputs": [
    {
     "data": {
      "image/png": "[encoded data removed]",
      "text/plain": [
       "<Figure size 432x288 with 1 Axes>"
      ]
     },
     "metadata": {
      "needs_background": "light"
     },
     "output_type": "display_data"
    }
   ],
   "source": [
    "plt.scatter(x1,Y,label =\"feature 1\")\n",
    "plt.scatter(x2,Y,label =\"feature 2\")\n",
    "plt.scatter(x3,Y,label =\"feature 3\")\n",
    "plt.legend()\n",
    "plt.show()"
   ]
  },
  {
   "cell_type": "code",
   "execution_count": 28,
   "metadata": {},
   "outputs": [
    {
     "data": {
      "text/plain": [
       "(3, 3000)"
      ]
     },
     "execution_count": 28,
     "metadata": {},
     "output_type": "execute_result"
    }
   ],
   "source": [
    "X_matrix = np.array([x1,x2,x3])\n",
    "X_matrix.shape"
   ]
  },
  {
   "cell_type": "markdown",
   "metadata": {},
   "source": [
    "# hypothesis function "
   ]
  },
  {
   "cell_type": "code",
   "execution_count": 39,
   "metadata": {},
   "outputs": [],
   "source": [
    "def hypothesis(X_matrix,Weight_matrix,bias):\n",
    "    hx = (np.dot(Weight_matrix,X_matrix).T) + bias\n",
    "    return sigmoid(hx) "
   ]
  },
  {
   "cell_type": "markdown",
   "metadata": {},
   "source": [
    "# sigmoid function "
   ]
  },
  {
   "cell_type": "code",
   "execution_count": 40,
   "metadata": {},
   "outputs": [],
   "source": [
    "def sigmoid(hx):\n",
    "    return 1.0/(1 + np.exp(-1.0*hx))\n"
   ]
  },
  {
   "cell_type": "markdown",
   "metadata": {},
   "source": [
    "# logarithic error function"
   ]
  },
  {
   "cell_type": "code",
   "execution_count": 55,
   "metadata": {},
   "outputs": [],
   "source": [
    "def error(X_matrix,Weight_matrix,bias,Y):\n",
    "    err = 0.0\n",
    "    hx = hypothesis(X_matrix,Weight_matrix,bias)\n",
    "    for i in range(X_matrix.shape[1]):\n",
    "        err += Y[i][0]*np.log2(hx[i][0]) + (1 - Y[i][0])*np.log2(1-hx[i][0])\n",
    "    return err/X_matrix.shape[1] # mean error\n",
    "    "
   ]
  },
  {
   "cell_type": "code",
   "execution_count": 56,
   "metadata": {},
   "outputs": [],
   "source": [
    "def gradient(X_matrix,Weight_matrix,Y,bias):\n",
    "    grad_matrix = np.zeros(Weight_matrix.shape)\n",
    "    grad_of_bias = 0.0\n",
    "    hx = hypothesis(X_matrix,Weight_matrix,bias)\n",
    "    for i in range(X_matrix.shape[1]):\n",
    "        grad_matrix[0][0] += (Y[i][0] - hx[i][0])*X_matrix[0][i]\n",
    "        grad_matrix[0][1] += (Y[i][0] - hx[i][0])*X_matrix[1][i]\n",
    "        grad_matrix[0][2] += (Y[i][0] - hx[i][0])*X_matrix[2][i]\n",
    "        grad_of_bias += (Y[i][0] - hx[i][0])\n",
    "        \n",
    "    return grad_matrix/X_matrix.shape[1],grad_of_bias/X_matrix.shape[1]"
   ]
  },
  {
   "cell_type": "code",
   "execution_count": 70,
   "metadata": {},
   "outputs": [],
   "source": [
    "def gradient_ascent(X_matrix,Y,learning_rate = 0.01):\n",
    "    Weight_matrix = 5*np.random.random((1,X_matrix.shape[0]))\n",
    "    bias = 5*np.random.random(1)[0]\n",
    "    err_lst =[];\n",
    "    \n",
    "    grad, Bias = gradient(X_matrix,Weight_matrix,Y,bias)\n",
    "    \n",
    "    for i in range(1000):\n",
    "        \n",
    "        e = error(X_matrix,Weight_matrix,bias,Y)\n",
    "        err_lst.append(e)\n",
    "    \n",
    "        Weight_matrix[0][0] += learning_rate*grad[0][0] \n",
    "        Weight_matrix[0][1] += learning_rate*grad[0][1] \n",
    "        Weight_matrix[0][2] += learning_rate*grad[0][2] \n",
    "        bias += learning_rate*Bias\n",
    "    \n",
    "    return Weight_matrix,bias,err_lst"
   ]
  },
  {
   "cell_type": "code",
   "execution_count": 71,
   "metadata": {},
   "outputs": [
    {
     "name": "stdout",
     "output_type": "stream",
     "text": [
      "[[-6.80017761 -2.22117314 -6.15607379]]\n",
      "-0.2979767778252408\n"
     ]
    }
   ],
   "source": [
    "opti_w_mtrx, opti_b,e_list = gradient_ascent(X_matrix,Y)\n",
    "print(opti_w_mtrx)\n",
    "print(opti_b)\n"
   ]
  },
  {
   "cell_type": "code",
   "execution_count": 72,
   "metadata": {},
   "outputs": [
    {
     "data": {
      "image/png": "[encoded data removed]",
      "text/plain": [
       "<Figure size 432x288 with 1 Axes>"
      ]
     },
     "metadata": {
      "needs_background": "light"
     },
     "output_type": "display_data"
    }
   ],
   "source": [
    "plt.plot(e_list)\n",
    "plt.show()"
   ]
  },
  {
   "cell_type": "code",
   "execution_count": 146,
   "metadata": {},
   "outputs": [],
   "source": [
    "def predict(X_test,opti_w_mtrx,opti_b):\n",
    "    \n",
    "    confidence = hypothesis(X_Test,opti_w_mtrx,opti_b)\n",
    "    for i in range(X_Test.shape[1]):\n",
    "        if(confidence[i][0]<0.5):\n",
    "            confidence[i][0]= 0\n",
    "        else:\n",
    "            confidence[i][0]= 1\n",
    "    return confidence"
   ]
  },
  {
   "cell_type": "code",
   "execution_count": 159,
   "metadata": {},
   "outputs": [
    {
     "data": {
      "text/html": [
       "<div>\n",
       "<style scoped>\n",
       "    .dataframe tbody tr th:only-of-type {\n",
       "        vertical-align: middle;\n",
       "    }\n",
       "\n",
       "    .dataframe tbody tr th {\n",
       "        vertical-align: top;\n",
       "    }\n",
       "\n",
       "    .dataframe thead th {\n",
       "        text-align: right;\n",
       "    }\n",
       "</style>\n",
       "<table border=\"1\" class=\"dataframe\">\n",
       "  <thead>\n",
       "    <tr style=\"text-align: right;\">\n",
       "      <th></th>\n",
       "      <th>f1</th>\n",
       "      <th>f2</th>\n",
       "      <th>f3</th>\n",
       "      <th>predicted class</th>\n",
       "    </tr>\n",
       "  </thead>\n",
       "  <tbody>\n",
       "    <tr>\n",
       "      <th>0</th>\n",
       "      <td>-0.767508</td>\n",
       "      <td>-0.261859</td>\n",
       "      <td>-2.514831</td>\n",
       "      <td>1.0</td>\n",
       "    </tr>\n",
       "    <tr>\n",
       "      <th>1</th>\n",
       "      <td>-1.241653</td>\n",
       "      <td>1.449001</td>\n",
       "      <td>-0.413089</td>\n",
       "      <td>1.0</td>\n",
       "    </tr>\n",
       "    <tr>\n",
       "      <th>2</th>\n",
       "      <td>1.925270</td>\n",
       "      <td>1.931761</td>\n",
       "      <td>1.342619</td>\n",
       "      <td>0.0</td>\n",
       "    </tr>\n",
       "    <tr>\n",
       "      <th>3</th>\n",
       "      <td>-1.298255</td>\n",
       "      <td>1.049761</td>\n",
       "      <td>-0.527319</td>\n",
       "      <td>1.0</td>\n",
       "    </tr>\n",
       "    <tr>\n",
       "      <th>4</th>\n",
       "      <td>-0.964712</td>\n",
       "      <td>0.938088</td>\n",
       "      <td>-1.186328</td>\n",
       "      <td>1.0</td>\n",
       "    </tr>\n",
       "    <tr>\n",
       "      <th>...</th>\n",
       "      <td>...</td>\n",
       "      <td>...</td>\n",
       "      <td>...</td>\n",
       "      <td>...</td>\n",
       "    </tr>\n",
       "    <tr>\n",
       "      <th>995</th>\n",
       "      <td>2.877461</td>\n",
       "      <td>3.043965</td>\n",
       "      <td>2.308939</td>\n",
       "      <td>0.0</td>\n",
       "    </tr>\n",
       "    <tr>\n",
       "      <th>996</th>\n",
       "      <td>3.128835</td>\n",
       "      <td>3.115084</td>\n",
       "      <td>1.856309</td>\n",
       "      <td>0.0</td>\n",
       "    </tr>\n",
       "    <tr>\n",
       "      <th>997</th>\n",
       "      <td>-1.186969</td>\n",
       "      <td>0.947347</td>\n",
       "      <td>-0.786386</td>\n",
       "      <td>1.0</td>\n",
       "    </tr>\n",
       "    <tr>\n",
       "      <th>998</th>\n",
       "      <td>-0.532324</td>\n",
       "      <td>1.845170</td>\n",
       "      <td>-0.993550</td>\n",
       "      <td>1.0</td>\n",
       "    </tr>\n",
       "    <tr>\n",
       "      <th>999</th>\n",
       "      <td>0.540232</td>\n",
       "      <td>0.580994</td>\n",
       "      <td>0.386649</td>\n",
       "      <td>0.0</td>\n",
       "    </tr>\n",
       "  </tbody>\n",
       "</table>\n",
       "<p>1000 rows × 4 columns</p>\n",
       "</div>"
      ],
      "text/plain": [
       "           f1        f2        f3  predicted class\n",
       "0   -0.767508 -0.261859 -2.514831              1.0\n",
       "1   -1.241653  1.449001 -0.413089              1.0\n",
       "2    1.925270  1.931761  1.342619              0.0\n",
       "3   -1.298255  1.049761 -0.527319              1.0\n",
       "4   -0.964712  0.938088 -1.186328              1.0\n",
       "..        ...       ...       ...              ...\n",
       "995  2.877461  3.043965  2.308939              0.0\n",
       "996  3.128835  3.115084  1.856309              0.0\n",
       "997 -1.186969  0.947347 -0.786386              1.0\n",
       "998 -0.532324  1.845170 -0.993550              1.0\n",
       "999  0.540232  0.580994  0.386649              0.0\n",
       "\n",
       "[1000 rows x 4 columns]"
      ]
     },
     "execution_count": 159,
     "metadata": {},
     "output_type": "execute_result"
    }
   ],
   "source": [
    "Xtest = pd.read_csv(\"./Downloads/Logistic_X_Test.csv\")\n",
    "X_Test = Xtest.values.T\n",
    "preds = predict(X_test,opti_w_mtrx,opti_b)\n",
    "pred_df = pd.DataFrame(preds)\n",
    "prediction_matrix = Xtest.join(pred_df)\n",
    "prediction_matrix.rename(columns = {0 : \"predicted class\"})\n"
   ]
  },
  {
   "cell_type": "code",
   "execution_count": null,
   "metadata": {},
   "outputs": [],
   "source": []
  },
  {
   "cell_type": "code",
   "execution_count": null,
   "metadata": {},
   "outputs": [],
   "source": []
  },
  {
   "cell_type": "code",
   "execution_count": null,
   "metadata": {},
   "outputs": [],
   "source": []
  }
 ],
 "metadata": {
  "kernelspec": {
   "display_name": "Python 3",
   "language": "python",
   "name": "python3"
  },
  "language_info": {
   "codemirror_mode": {
    "name": "ipython",
    "version": 3
   },
   "file_extension": ".py",
   "mimetype": "text/x-python",
   "name": "python",
   "nbconvert_exporter": "python",
   "pygments_lexer": "ipython3",
   "version": "3.6.9"
  }
 },
 "nbformat": 4,
 "nbformat_minor": 4
}
